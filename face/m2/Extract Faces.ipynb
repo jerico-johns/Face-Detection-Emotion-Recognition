{
 "cells": [
  {
   "cell_type": "code",
   "execution_count": 1,
   "metadata": {},
   "outputs": [
    {
     "name": "stdout",
     "output_type": "stream",
     "text": [
      "Reading package lists...\n",
      "Building dependency tree...\n",
      "Reading state information...\n",
      "The following additional packages will be installed:\n",
      "  libavdevice57 libcdio-cdda2 libcdio-paranoia2 libsdl2-2.0-0 libxv1\n",
      "Suggested packages:\n",
      "  ffmpeg-doc\n",
      "The following NEW packages will be installed:\n",
      "  ffmpeg libavdevice57 libcdio-cdda2 libcdio-paranoia2 libsdl2-2.0-0 libxv1\n",
      "0 upgraded, 6 newly installed, 0 to remove and 91 not upgraded.\n",
      "Need to get 1973 kB of archives.\n",
      "After this operation, 3689 kB of additional disk space will be used.\n",
      "Get:1 http://ports.ubuntu.com/ubuntu-ports bionic/main arm64 libcdio-cdda2 arm64 10.2+0.94+2-2build1 [15.4 kB]\n",
      "Get:2 http://ports.ubuntu.com/ubuntu-ports bionic/main arm64 libcdio-paranoia2 arm64 10.2+0.94+2-2build1 [14.8 kB]\n",
      "Get:3 http://ports.ubuntu.com/ubuntu-ports bionic-updates/universe arm64 libsdl2-2.0-0 arm64 2.0.8+dfsg1-1ubuntu1.18.04.4 [307 kB]\n",
      "Get:4 http://ports.ubuntu.com/ubuntu-ports bionic/main arm64 libxv1 arm64 2:1.0.11-1 [9736 B]\n",
      "Get:5 http://ports.ubuntu.com/ubuntu-ports bionic-updates/universe arm64 libavdevice57 arm64 7:3.4.8-0ubuntu0.2 [67.0 kB]\n",
      "Get:6 http://ports.ubuntu.com/ubuntu-ports bionic-updates/universe arm64 ffmpeg arm64 7:3.4.8-0ubuntu0.2 [1559 kB]\n",
      "Fetched 1973 kB in 1s (2214 kB/s)\n",
      "debconf: delaying package configuration, since apt-utils is not installed\n",
      "Selecting previously unselected package libcdio-cdda2:arm64.\n",
      "(Reading database ... 45719 files and directories currently installed.)\n",
      "Preparing to unpack .../0-libcdio-cdda2_10.2+0.94+2-2build1_arm64.deb ...\n",
      "Unpacking libcdio-cdda2:arm64 (10.2+0.94+2-2build1) ...\n",
      "Selecting previously unselected package libcdio-paranoia2:arm64.\n",
      "Preparing to unpack .../1-libcdio-paranoia2_10.2+0.94+2-2build1_arm64.deb ...\n",
      "Unpacking libcdio-paranoia2:arm64 (10.2+0.94+2-2build1) ...\n",
      "Selecting previously unselected package libsdl2-2.0-0:arm64.\n",
      "Preparing to unpack .../2-libsdl2-2.0-0_2.0.8+dfsg1-1ubuntu1.18.04.4_arm64.deb ...\n",
      "Unpacking libsdl2-2.0-0:arm64 (2.0.8+dfsg1-1ubuntu1.18.04.4) ...\n",
      "Selecting previously unselected package libxv1:arm64.\n",
      "Preparing to unpack .../3-libxv1_2%3a1.0.11-1_arm64.deb ...\n",
      "Unpacking libxv1:arm64 (2:1.0.11-1) ...\n",
      "Selecting previously unselected package libavdevice57:arm64.\n",
      "Preparing to unpack .../4-libavdevice57_7%3a3.4.8-0ubuntu0.2_arm64.deb ...\n",
      "Unpacking libavdevice57:arm64 (7:3.4.8-0ubuntu0.2) ...\n",
      "Selecting previously unselected package ffmpeg.\n",
      "Preparing to unpack .../5-ffmpeg_7%3a3.4.8-0ubuntu0.2_arm64.deb ...\n",
      "Unpacking ffmpeg (7:3.4.8-0ubuntu0.2) ...\n",
      "Setting up libcdio-cdda2:arm64 (10.2+0.94+2-2build1) ...\n",
      "Setting up libsdl2-2.0-0:arm64 (2.0.8+dfsg1-1ubuntu1.18.04.4) ...\n",
      "Setting up libcdio-paranoia2:arm64 (10.2+0.94+2-2build1) ...\n",
      "Setting up libxv1:arm64 (2:1.0.11-1) ...\n",
      "Setting up libavdevice57:arm64 (7:3.4.8-0ubuntu0.2) ...\n",
      "Setting up ffmpeg (7:3.4.8-0ubuntu0.2) ...\n",
      "Processing triggers for libc-bin (2.27-3ubuntu1.2) ...\n"
     ]
    }
   ],
   "source": [
    "!apt-get install -yq ffmpeg"
   ]
  },
  {
   "cell_type": "code",
   "execution_count": 2,
   "metadata": {},
   "outputs": [],
   "source": [
    "!mkdir -p data/ffmpeg/0"
   ]
  },
  {
   "cell_type": "code",
   "execution_count": 3,
   "metadata": {},
   "outputs": [
    {
     "name": "stdout",
     "output_type": "stream",
     "text": [
      "ffmpeg version 3.4.8-0ubuntu0.2 Copyright (c) 2000-2020 the FFmpeg developers\r\n",
      "  built with gcc 7 (Ubuntu/Linaro 7.5.0-3ubuntu1~18.04)\r\n",
      "  configuration: --prefix=/usr --extra-version=0ubuntu0.2 --toolchain=hardened --libdir=/usr/lib/aarch64-linux-gnu --incdir=/usr/include/aarch64-linux-gnu --enable-gpl --disable-stripping --enable-avresample --enable-avisynth --enable-gnutls --enable-ladspa --enable-libass --enable-libbluray --enable-libbs2b --enable-libcaca --enable-libcdio --enable-libflite --enable-libfontconfig --enable-libfreetype --enable-libfribidi --enable-libgme --enable-libgsm --enable-libmp3lame --enable-libmysofa --enable-libopenjpeg --enable-libopenmpt --enable-libopus --enable-libpulse --enable-librubberband --enable-librsvg --enable-libshine --enable-libsnappy --enable-libsoxr --enable-libspeex --enable-libssh --enable-libtheora --enable-libtwolame --enable-libvorbis --enable-libvpx --enable-libwavpack --enable-libwebp --enable-libx265 --enable-libxml2 --enable-libxvid --enable-libzmq --enable-libzvbi --enable-omx --enable-openal --enable-opengl --enable-sdl2 --enable-libdc1394 --enable-libdrm --enable-libiec61883 --enable-chromaprint --enable-frei0r --enable-libopencv --enable-libx264 --enable-shared\r\n",
      "  libavutil      55. 78.100 / 55. 78.100\r\n",
      "  libavcodec     57.107.100 / 57.107.100\r\n",
      "  libavformat    57. 83.100 / 57. 83.100\r\n",
      "  libavdevice    57. 10.100 / 57. 10.100\r\n",
      "  libavfilter     6.107.100 /  6.107.100\r\n",
      "  libavresample   3.  7.  0 /  3.  7.  0\r\n",
      "  libswscale      4.  8.100 /  4.  8.100\r\n",
      "  libswresample   2.  9.100 /  2.  9.100\r\n",
      "  libpostproc    54.  7.100 / 54.  7.100\r\n",
      "\u001b[1;31mzoom_0.mp4: No such file or directory\r\n",
      "\u001b[0m"
     ]
    }
   ],
   "source": [
    "!ffmpeg -i zoom_0.mp4 -s 1920x1080 -frames:v 500 -r 0.05 data/ffmpeg/0/extract%04d.jpg"
   ]
  },
  {
   "cell_type": "code",
   "execution_count": 65,
   "metadata": {},
   "outputs": [],
   "source": [
    "!rm -rf ./data/faces"
   ]
  },
  {
   "cell_type": "code",
   "execution_count": 66,
   "metadata": {},
   "outputs": [],
   "source": [
    "import os\n",
    "\n",
    "from facenet_pytorch import MTCNN\n",
    "import torch\n",
    "from torchvision import datasets\n",
    "from IPython import display\n",
    "from pathlib import Path"
   ]
  },
  {
   "cell_type": "code",
   "execution_count": 67,
   "metadata": {},
   "outputs": [
    {
     "name": "stdout",
     "output_type": "stream",
     "text": [
      "Running on device: cuda:0\n"
     ]
    }
   ],
   "source": [
    "device = torch.device('cuda:0' if torch.cuda.is_available() else 'cpu')\n",
    "print(f'Running on device: {device}')"
   ]
  },
  {
   "cell_type": "code",
   "execution_count": 68,
   "metadata": {},
   "outputs": [],
   "source": [
    "mtcnn = MTCNN(keep_all=True, margin=0, min_face_size=60, thresholds=[0.6, 0.7, 0.7], \n",
    "              factor=0.709, post_process=True, device=device)\n",
    "dataset = datasets.ImageFolder('./data/ffmpeg')"
   ]
  },
  {
   "cell_type": "code",
   "execution_count": 69,
   "metadata": {},
   "outputs": [],
   "source": [
    "for idx_frame, (frame, y) in enumerate(dataset):\n",
    "    boxes, _ = mtcnn.detect(frame)\n",
    "    \n",
    "    if boxes is not None:\n",
    "        for idx_box, box in enumerate(boxes):\n",
    "            \n",
    "            image_dir = Path(f'./data/faces/')\n",
    "            image_dir.mkdir(parents=True, exist_ok=True)\n",
    "    \n",
    "            cropped_img = frame.crop(box).resize((85, 120))\n",
    "#             display.display(cropped_img, display_id=True)\n",
    "            cropped_img.save(f'{image_dir}/{idx_frame}_{idx_box}.jpg')\n",
    "        "
   ]
  },
  {
   "cell_type": "code",
   "execution_count": null,
   "metadata": {},
   "outputs": [],
   "source": []
  }
 ],
 "metadata": {
  "kernelspec": {
   "display_name": "Python 3",
   "language": "python",
   "name": "python3"
  },
  "language_info": {
   "codemirror_mode": {
    "name": "ipython",
    "version": 3
   },
   "file_extension": ".py",
   "mimetype": "text/x-python",
   "name": "python",
   "nbconvert_exporter": "python",
   "pygments_lexer": "ipython3",
   "version": "3.6.9"
  }
 },
 "nbformat": 4,
 "nbformat_minor": 4
}
